{
  "nbformat": 4,
  "nbformat_minor": 0,
  "metadata": {
    "anaconda-cloud": {},
    "colab": {
      "name": "Index.ipynb",
      "provenance": [],
      "include_colab_link": true
    },
    "kernelspec": {
      "display_name": "Python 2",
      "language": "python",
      "name": "python2"
    },
    "language_info": {
      "codemirror_mode": {
        "name": "ipython",
        "version": 2
      },
      "file_extension": ".py",
      "mimetype": "text/x-python",
      "name": "python",
      "nbconvert_exporter": "python",
      "pygments_lexer": "ipython2",
      "version": "2.7.15"
    }
  },
  "cells": [
    {
      "cell_type": "markdown",
      "metadata": {
        "id": "view-in-github",
        "colab_type": "text"
      },
      "source": [
        "<a href=\"https://colab.research.google.com/github/htapiagroup/introduccion-a-numpy-EisaacJC/blob/master/Index.ipynb\" target=\"_parent\"><img src=\"https://colab.research.google.com/assets/colab-badge.svg\" alt=\"Open In Colab\"/></a>"
      ]
    },
    {
      "cell_type": "markdown",
      "metadata": {
        "colab_type": "text",
        "id": "tBlFttIbtfbw"
      },
      "source": [
        "![Header](https://www.uv.mx/ffia/files/2012/09/playerLogo2.jpg\n",
        ")\n",
        "# Taller de Python Física UV- Intro a Numpy\n"
      ]
    },
    {
      "cell_type": "markdown",
      "metadata": {
        "colab_type": "text",
        "id": "s_ljDhXitfb5"
      },
      "source": [
        "Las siguientes libretas de Jupyter contienen el material para el curso optativo de \"Introducción a la ciencia de Datos\" en la facultad de Física, UV.] El material está basado en el libro [Python Data Science Handbook](http://shop.oreilly.com/product/0636920034919.do) de Jake VanderPlas; el contenido **original** está disponible [en GitHub](https://github.com/jakevdp/PythonDataScienceHandbook).\n"
      ]
    },
    {
      "cell_type": "markdown",
      "metadata": {
        "id": "x8d1XR6xx4cq",
        "colab_type": "text"
      },
      "source": [
        "### [Prefacio](00.00-Preface.ipynb)\n",
        "\n",
        "### [1. Introducción a NumPy](01.00-Introduction-to-NumPy.ipynb)\n",
        "- [Tipos de Datos en Python](01.01-Understanding-Data-Types.ipynb)\n",
        "- [Basicos de NumPy: arreglos](01.02-The-Basics-Of-NumPy-Arrays.ipynb)\n",
        "- [Cálculos con Arrays 1. Ufuncs](01.03-Computation-on-arrays-ufuncs.ipynb)\n",
        "- [Agregaciones: Min, Max, etc.](01.04-Computation-on-arrays-aggregates.ipynb)\n",
        "- [Cálculos con Arrays 2. Broadcasting](01.05-Computation-on-arrays-broadcasting.ipynb)\n",
        "- [Comparaciones, máscaras y lógica booleana](01.06-Boolean-Arrays-and-Masks.ipynb)\n",
        "- [Indexado elegante](01.07-Fancy-Indexing.ipynb)\n",
        "- [Ordenando elementos de un arreglo](01.08-Sorting.ipynb)\n",
        "- [Datos estructurados en NumPy](01.09-Structured-Data-NumPy.ipynb)\n",
        "\n"
      ]
    },
    {
      "cell_type": "code",
      "metadata": {
        "id": "PSIzuC5Fh89-",
        "colab_type": "code",
        "colab": {}
      },
      "source": [
        ""
      ],
      "execution_count": 0,
      "outputs": []
    }
  ]
}