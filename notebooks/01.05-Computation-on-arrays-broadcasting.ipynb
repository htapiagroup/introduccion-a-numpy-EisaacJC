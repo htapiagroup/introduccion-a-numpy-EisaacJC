{
  "nbformat": 4,
  "nbformat_minor": 0,
  "metadata": {
    "anaconda-cloud": {},
    "kernelspec": {
      "display_name": "Python 2",
      "language": "python",
      "name": "python2"
    },
    "language_info": {
      "codemirror_mode": {
        "name": "ipython",
        "version": 2
      },
      "file_extension": ".py",
      "mimetype": "text/x-python",
      "name": "python",
      "nbconvert_exporter": "python",
      "pygments_lexer": "ipython2",
      "version": "2.7.15"
    },
    "colab": {
      "name": "01.05-Computation-on-arrays-broadcasting.ipynb",
      "provenance": [],
      "include_colab_link": true
    }
  },
  "cells": [
    {
      "cell_type": "markdown",
      "metadata": {
        "id": "view-in-github",
        "colab_type": "text"
      },
      "source": [
        "<a href=\"https://colab.research.google.com/github/htapiagroup/introduccion-a-numpy-EisaacJC/blob/master/notebooks/01.05-Computation-on-arrays-broadcasting.ipynb\" target=\"_parent\"><img src=\"https://colab.research.google.com/assets/colab-badge.svg\" alt=\"Open In Colab\"/></a>"
      ]
    },
    {
      "cell_type": "markdown",
      "metadata": {
        "id": "kP9J224Y-eaj",
        "colab_type": "text"
      },
      "source": [
        "\n",
        "<img align=\"left\" style=\"padding-right:10px;\" src=\"https://www.uv.mx/ffia/files/2012/09/playerLogo2.jpg\">\n",
        "\n",
        "El contenido ha sido adaptado para el curso de Introducción a la ciencia de Datos,\n",
        "por HTM y GED a partir del libro [Python Data Science Handbook](http://shop.oreilly.com/product/0636920034919.do) \n",
        "de Jake VanderPlas y se mantiene la licencia sobre el texto, \n",
        "[CC-BY-NC-ND license](https://creativecommons.org/licenses/by-nc-nd/3.0/us/legalcode), \n",
        "y sobre el codigo [MIT license](https://opensource.org/licenses/MIT).*"
      ]
    },
    {
      "cell_type": "markdown",
      "metadata": {
        "id": "xm9P-1fK-eaw",
        "colab_type": "text"
      },
      "source": [
        "<!--NAVIGATION-->\n",
        "< [Agregaciones: Min, Max, etc.](01.04-Computation-on-arrays-aggregates.ipynb) | [Contenido](Index.ipynb) | [Comparaciones, máscaras y lógica booleana](01.06-Boolean-Arrays-and-Masks.ipynb) >\n"
      ]
    },
    {
      "cell_type": "markdown",
      "metadata": {
        "id": "SL4qQ_tt-ea2",
        "colab_type": "text"
      },
      "source": [
        "# Cálculos con Arrays 2. Broadcasting"
      ]
    },
    {
      "cell_type": "markdown",
      "metadata": {
        "id": "a2lnNhVu-ea9",
        "colab_type": "text"
      },
      "source": [
        "## Introducción a Broadcasting\n"
      ]
    },
    {
      "cell_type": "code",
      "metadata": {
        "id": "aQgekOk5-ebC",
        "colab_type": "code",
        "colab": {}
      },
      "source": [
        "import numpy as np"
      ],
      "execution_count": 0,
      "outputs": []
    },
    {
      "cell_type": "code",
      "metadata": {
        "id": "eVLt5XCC-ebX",
        "colab_type": "code",
        "outputId": "aa85ee86-402a-4837-ed74-e2c655508e07",
        "colab": {
          "base_uri": "https://localhost:8080/",
          "height": 34
        }
      },
      "source": [
        "a = np.array([0, 1, 2])\n",
        "b = np.array([5, 5, 5])\n",
        "a + b"
      ],
      "execution_count": 4,
      "outputs": [
        {
          "output_type": "execute_result",
          "data": {
            "text/plain": [
              "array([5, 6, 7])"
            ]
          },
          "metadata": {
            "tags": []
          },
          "execution_count": 4
        }
      ]
    },
    {
      "cell_type": "code",
      "metadata": {
        "id": "Dt7TrHr_-eby",
        "colab_type": "code",
        "outputId": "7e64c0ea-5237-4740-ec10-e4aca2a49c5d",
        "colab": {
          "base_uri": "https://localhost:8080/",
          "height": 34
        }
      },
      "source": [
        "a + 5"
      ],
      "execution_count": 5,
      "outputs": [
        {
          "output_type": "execute_result",
          "data": {
            "text/plain": [
              "array([5, 6, 7])"
            ]
          },
          "metadata": {
            "tags": []
          },
          "execution_count": 5
        }
      ]
    },
    {
      "cell_type": "code",
      "metadata": {
        "id": "hQNOaLDW-ecE",
        "colab_type": "code",
        "outputId": "de538991-8c12-457d-bfcb-6c676d89bb98",
        "colab": {
          "base_uri": "https://localhost:8080/",
          "height": 67
        }
      },
      "source": [
        "M = np.ones((3, 3))\n",
        "M"
      ],
      "execution_count": 6,
      "outputs": [
        {
          "output_type": "execute_result",
          "data": {
            "text/plain": [
              "array([[1., 1., 1.],\n",
              "       [1., 1., 1.],\n",
              "       [1., 1., 1.]])"
            ]
          },
          "metadata": {
            "tags": []
          },
          "execution_count": 6
        }
      ]
    },
    {
      "cell_type": "code",
      "metadata": {
        "id": "IihUt_Rh-eci",
        "colab_type": "code",
        "outputId": "c63bb4eb-db6a-4674-a02a-3caa70732dc5",
        "colab": {
          "base_uri": "https://localhost:8080/",
          "height": 67
        }
      },
      "source": [
        "M + a"
      ],
      "execution_count": 7,
      "outputs": [
        {
          "output_type": "execute_result",
          "data": {
            "text/plain": [
              "array([[1., 2., 3.],\n",
              "       [1., 2., 3.],\n",
              "       [1., 2., 3.]])"
            ]
          },
          "metadata": {
            "tags": []
          },
          "execution_count": 7
        }
      ]
    },
    {
      "cell_type": "code",
      "metadata": {
        "id": "CHQ1odqT-ecx",
        "colab_type": "code",
        "outputId": "4f2e7c2b-3e26-441c-95b4-5f25013bc04e",
        "colab": {
          "base_uri": "https://localhost:8080/",
          "height": 84
        }
      },
      "source": [
        "a = np.arange(3)\n",
        "b = np.arange(3)[:, np.newaxis]\n",
        "\n",
        "print(a)\n",
        "print(b)"
      ],
      "execution_count": 8,
      "outputs": [
        {
          "output_type": "stream",
          "text": [
            "[0 1 2]\n",
            "[[0]\n",
            " [1]\n",
            " [2]]\n"
          ],
          "name": "stdout"
        }
      ]
    },
    {
      "cell_type": "code",
      "metadata": {
        "id": "y2XfdlOf-edA",
        "colab_type": "code",
        "outputId": "ec4e3a97-26d6-4ad4-b58f-9f64f54711d7",
        "colab": {
          "base_uri": "https://localhost:8080/",
          "height": 67
        }
      },
      "source": [
        "a + b"
      ],
      "execution_count": 9,
      "outputs": [
        {
          "output_type": "execute_result",
          "data": {
            "text/plain": [
              "array([[0, 1, 2],\n",
              "       [1, 2, 3],\n",
              "       [2, 3, 4]])"
            ]
          },
          "metadata": {
            "tags": []
          },
          "execution_count": 9
        }
      ]
    },
    {
      "cell_type": "markdown",
      "metadata": {
        "id": "8BrDjRPJ-edl",
        "colab_type": "text"
      },
      "source": [
        "![Broadcasting Visual](https://github.com/htapiagroup/manipulacion-de-datos-con-pandas-EisaacJC/blob/master/notebooks/figures/02.05-broadcasting.png?raw=1)"
      ]
    },
    {
      "cell_type": "markdown",
      "metadata": {
        "id": "Rep1f1W8-edq",
        "colab_type": "text"
      },
      "source": [
        "## Reglas del Broadcasting\n",
        "\n",
        "- Regla 1: Si dos arreglos son diferentes en el numero de sus dimensiones, la forma de la que tiene la menor dimension es adoptada con la que tiene a su izquierda\n",
        "- Regla 2: Si la forma de los dos arreglos no conincide en sus dimensiones, el arreglo con forma igual a 1 es redimencionado para que conincida el otro arreglo\n",
        "- Regla 3: Si los tamaños de las dimenciones no coinciden y ninguno es igual a 1, nos genera un error.\n",
        "\n",
        "Para aclarar estas reglas, consideraremos algunos ejemplos con detalle."
      ]
    },
    {
      "cell_type": "markdown",
      "metadata": {
        "id": "-z6_BQHD-edt",
        "colab_type": "text"
      },
      "source": [
        "### Broadcasting ejemplo 1\n"
      ]
    },
    {
      "cell_type": "code",
      "metadata": {
        "id": "vmRmuM_j-ed3",
        "colab_type": "code",
        "colab": {}
      },
      "source": [
        "M = np.ones((2, 3))\n",
        "a = np.arange(3)"
      ],
      "execution_count": 0,
      "outputs": []
    },
    {
      "cell_type": "markdown",
      "metadata": {
        "id": "LkYaElzy-eec",
        "colab_type": "text"
      },
      "source": [
        "Vamos a considerar una operacion con estos dos arreglos. La forma de los arreglos son\n",
        "\n",
        "- ``M.shape = (2, 3)``\n",
        "- ``a.shape = (3,)``\n",
        "\n",
        "Vemos que el arreglo ``a`` cumple la regla 1 ya que tiene menos dimensiones, asi que se rellena a la izquierda con unos(1):\n",
        "\n",
        "- ``M.shape -> (2, 3)``\n",
        "- ``a.shape -> (1, 3)``\n",
        "\n",
        "Para la regla 2, Ahora se observa que la primer dimension no concuerda con el otro arreglo, Por lo que cambiamos esta dimension para que coincida:\n",
        "\n",
        "- ``M.shape -> (2, 3)``\n",
        "- ``a.shape -> (2, 3)``\n",
        "\n",
        "Las formas coninciden, y vemos que la forma final sera ``(2, 3)``:"
      ]
    },
    {
      "cell_type": "code",
      "metadata": {
        "id": "hM1Hxpqc-eef",
        "colab_type": "code",
        "outputId": "5f5aedaa-d8d1-469f-cdf4-298452586365",
        "colab": {
          "base_uri": "https://localhost:8080/",
          "height": 50
        }
      },
      "source": [
        "M + a"
      ],
      "execution_count": 11,
      "outputs": [
        {
          "output_type": "execute_result",
          "data": {
            "text/plain": [
              "array([[1., 2., 3.],\n",
              "       [1., 2., 3.]])"
            ]
          },
          "metadata": {
            "tags": []
          },
          "execution_count": 11
        }
      ]
    },
    {
      "cell_type": "markdown",
      "metadata": {
        "id": "KcnzK6Yn-ees",
        "colab_type": "text"
      },
      "source": [
        "### Broadcasting ejemplo 2\n"
      ]
    },
    {
      "cell_type": "code",
      "metadata": {
        "id": "eUtmkUht-eew",
        "colab_type": "code",
        "colab": {}
      },
      "source": [
        "a = np.arange(3).reshape((3, 1))\n",
        "b = np.arange(3)"
      ],
      "execution_count": 0,
      "outputs": []
    },
    {
      "cell_type": "markdown",
      "metadata": {
        "id": "sRjVEWa0-ee6",
        "colab_type": "text"
      },
      "source": [
        "Nuevamente, comenzamos escribiendo la forma de los arreglos:\n",
        "\n",
        "- ``a.shape = (3, 1)``\n",
        "- ``b.shape = (3,)``\n",
        "\n",
        "La regla 1 dice que debemos rellenar la forma de ``b`` con unos(1):\n",
        "\n",
        "- ``a.shape -> (3, 1)``\n",
        "- ``b.shape -> (1, 3)``\n",
        "\n",
        "Y la regla 2 nos dice que actualizemos cada uno de estos para que coincidan con el tamaño correspondiente del otro arreglo:\n",
        "\n",
        "- ``a.shape -> (3, 3)``\n",
        "- ``b.shape -> (3, 3)``\n",
        "\n",
        "Por que el resultado coincide, Estas formas son compatibles. Podemos ver esto aqui:"
      ]
    },
    {
      "cell_type": "code",
      "metadata": {
        "id": "Pw2uFADb-efJ",
        "colab_type": "code",
        "outputId": "64b1a1cd-0c78-4156-8b8f-5930b2bed585",
        "colab": {
          "base_uri": "https://localhost:8080/",
          "height": 67
        }
      },
      "source": [
        "a + b"
      ],
      "execution_count": 13,
      "outputs": [
        {
          "output_type": "execute_result",
          "data": {
            "text/plain": [
              "array([[0, 1, 2],\n",
              "       [1, 2, 3],\n",
              "       [2, 3, 4]])"
            ]
          },
          "metadata": {
            "tags": []
          },
          "execution_count": 13
        }
      ]
    },
    {
      "cell_type": "markdown",
      "metadata": {
        "id": "ZSMptSRr-efU",
        "colab_type": "text"
      },
      "source": [
        "### Broadcasting ejemplo 3\n"
      ]
    },
    {
      "cell_type": "code",
      "metadata": {
        "id": "rrOg0B0P-efY",
        "colab_type": "code",
        "colab": {}
      },
      "source": [
        "M = np.ones((3, 2))\n",
        "a = np.arange(3)"
      ],
      "execution_count": 0,
      "outputs": []
    },
    {
      "cell_type": "markdown",
      "metadata": {
        "id": "ag-rJv5o-efr",
        "colab_type": "text"
      },
      "source": [
        "Esta es solo una situacion ligeramente diferente que en el primer ejemplo:la matriz ``M`` se transpone.\n",
        "Como afecta esto al calculo? la forma de los arreglos son\n",
        "\n",
        "- ``M.shape = (3, 2)``\n",
        "- ``a.shape = (3,)``\n",
        "\n",
        "Nuevamente, la regla 1 nos dice que debemos rellenar la forma de ``a`` con unos(1):\n",
        "\n",
        "- ``M.shape -> (3, 2)``\n",
        "- ``a.shape -> (1, 3)``\n",
        "\n",
        "La regla 2, la primer dimension de ``a`` se actualiza para que coincida con la de ``M``:\n",
        "\n",
        "- ``M.shape -> (3, 2)``\n",
        "- ``a.shape -> (3, 3)``\n",
        "\n",
        "Ahora llegamos a la regla 3: las formas finales no coinciden, por lo que estos dos arreglos son incompatibles, como podemos observar al intentar esta operacion:"
      ]
    },
    {
      "cell_type": "code",
      "metadata": {
        "id": "2OHceXKx-efv",
        "colab_type": "code",
        "outputId": "33915693-a91f-4bc0-9cac-7a3a6f5026a7",
        "colab": {
          "base_uri": "https://localhost:8080/",
          "height": 212
        }
      },
      "source": [
        "M + a\n",
        "\n",
        "#Esto sucede porque no se puede llevar a cabo la suma de matrices de dimensiones\n",
        "#distintas"
      ],
      "execution_count": 15,
      "outputs": [
        {
          "output_type": "error",
          "ename": "ValueError",
          "evalue": "ignored",
          "traceback": [
            "\u001b[0;31m\u001b[0m",
            "\u001b[0;31mValueError\u001b[0mTraceback (most recent call last)",
            "\u001b[0;32m<ipython-input-15-387cc808c6cf>\u001b[0m in \u001b[0;36m<module>\u001b[0;34m()\u001b[0m\n\u001b[0;32m----> 1\u001b[0;31m \u001b[0mM\u001b[0m \u001b[0;34m+\u001b[0m \u001b[0ma\u001b[0m\u001b[0;34m\u001b[0m\u001b[0;34m\u001b[0m\u001b[0m\n\u001b[0m\u001b[1;32m      2\u001b[0m \u001b[0;34m\u001b[0m\u001b[0m\n\u001b[1;32m      3\u001b[0m \u001b[0;31m#Esto sucede porque no se puede llevar a cabo la suma de matrices de dimensiones\u001b[0m\u001b[0;34m\u001b[0m\u001b[0;34m\u001b[0m\u001b[0;34m\u001b[0m\u001b[0m\n\u001b[1;32m      4\u001b[0m \u001b[0;31m#distintas\u001b[0m\u001b[0;34m\u001b[0m\u001b[0;34m\u001b[0m\u001b[0;34m\u001b[0m\u001b[0m\n",
            "\u001b[0;31mValueError\u001b[0m: operands could not be broadcast together with shapes (3,2) (3,) "
          ]
        }
      ]
    },
    {
      "cell_type": "markdown",
      "metadata": {
        "id": "GyWamvRE-ef7",
        "colab_type": "text"
      },
      "source": [
        "Tenga en cuenta la posible confusion aqui: podria imaginarse hacer que ``a`` y ``M`` sean compatibles, por ejemplo, rellenando la forma de ``a`` con unos(1) a la derecha en lugar de la izquierda.\n",
        "Pero no es asi como funcionan las reglas de broadcasting!\n",
        "Este tipo de flexibilidad podria ser util en algunos casos, pero conduciria a posibles areas de ambiguedad.\n",
        "Si lo que desea es el relleno de lado derecho, puede hacerlo reformulando explicitamente el arreglo usando la palabra clave np.newaxis introducida en [The Basics of NumPy Arrays](02.02-The-Basics-Of-NumPy-Arrays.ipynb)):"
      ]
    },
    {
      "cell_type": "code",
      "metadata": {
        "id": "DcYiBQQn-ef-",
        "colab_type": "code",
        "outputId": "1f7af36b-65fb-4523-cbfb-985f310c5c1d",
        "colab": {
          "base_uri": "https://localhost:8080/",
          "height": 34
        }
      },
      "source": [
        "a[:, np.newaxis].shape"
      ],
      "execution_count": 16,
      "outputs": [
        {
          "output_type": "execute_result",
          "data": {
            "text/plain": [
              "(3, 1)"
            ]
          },
          "metadata": {
            "tags": []
          },
          "execution_count": 16
        }
      ]
    },
    {
      "cell_type": "code",
      "metadata": {
        "id": "0gX-boUK-egV",
        "colab_type": "code",
        "outputId": "69037c61-107a-4e60-eee8-a7d6e5063585",
        "colab": {
          "base_uri": "https://localhost:8080/",
          "height": 67
        }
      },
      "source": [
        "M + a[:, np.newaxis]"
      ],
      "execution_count": 17,
      "outputs": [
        {
          "output_type": "execute_result",
          "data": {
            "text/plain": [
              "array([[1., 1.],\n",
              "       [2., 2.],\n",
              "       [3., 3.]])"
            ]
          },
          "metadata": {
            "tags": []
          },
          "execution_count": 17
        }
      ]
    },
    {
      "cell_type": "markdown",
      "metadata": {
        "id": "yLWcWub1-egj",
        "colab_type": "text"
      },
      "source": [
        "Tambien tenga en cuenta que si bien nos hemos centrado en el operador ``+`` aqui, las reglas de broadcasting son aplicadas *cualquier* funcion binaria.\n",
        "Por ejemplo, aqui esta la funcion ``logaddexp(a, b)`` , que calcula el ``log(exp(a) + exp(b))`` con mas precision que el enfoque por aproximacion:"
      ]
    },
    {
      "cell_type": "code",
      "metadata": {
        "id": "mE0vKNyu-egw",
        "colab_type": "code",
        "outputId": "6feacb27-284b-4716-9879-7929a09d510f",
        "colab": {
          "base_uri": "https://localhost:8080/",
          "height": 67
        }
      },
      "source": [
        "np.logaddexp(M, a[:, np.newaxis])"
      ],
      "execution_count": 18,
      "outputs": [
        {
          "output_type": "execute_result",
          "data": {
            "text/plain": [
              "array([[1.31326169, 1.31326169],\n",
              "       [1.69314718, 1.69314718],\n",
              "       [2.31326169, 2.31326169]])"
            ]
          },
          "metadata": {
            "tags": []
          },
          "execution_count": 18
        }
      ]
    },
    {
      "cell_type": "markdown",
      "metadata": {
        "id": "G77LKMf7-ehw",
        "colab_type": "text"
      },
      "source": [
        "Para mas informacion sobre las muchas funciones universales disponibles, referenciada en [Computation on NumPy Arrays: Universal Functions](02.03-Computation-on-arrays-ufuncs.ipynb)."
      ]
    },
    {
      "cell_type": "markdown",
      "metadata": {
        "id": "1bdx6nb--eiR",
        "colab_type": "text"
      },
      "source": [
        "## Broadcasting en práctica"
      ]
    },
    {
      "cell_type": "markdown",
      "metadata": {
        "id": "Fiz23FLT-eiY",
        "colab_type": "text"
      },
      "source": [
        "### Centralidad. Subtraer el promedio de un array"
      ]
    },
    {
      "cell_type": "code",
      "metadata": {
        "id": "JQffklv4-ei1",
        "colab_type": "code",
        "colab": {}
      },
      "source": [
        "X = np.random.random((10, 3))"
      ],
      "execution_count": 0,
      "outputs": []
    },
    {
      "cell_type": "code",
      "metadata": {
        "id": "cplYaL8d-ei_",
        "colab_type": "code",
        "outputId": "0a178e2d-76c1-4ed3-e522-d982491cb1f4",
        "colab": {
          "base_uri": "https://localhost:8080/",
          "height": 34
        }
      },
      "source": [
        "Xmean = X.mean(0)\n",
        "Xmean"
      ],
      "execution_count": 20,
      "outputs": [
        {
          "output_type": "execute_result",
          "data": {
            "text/plain": [
              "array([0.48844979, 0.42503397, 0.56476789])"
            ]
          },
          "metadata": {
            "tags": []
          },
          "execution_count": 20
        }
      ]
    },
    {
      "cell_type": "code",
      "metadata": {
        "id": "AVq_M1S7-ejG",
        "colab_type": "code",
        "colab": {}
      },
      "source": [
        "X_centered = X - Xmean"
      ],
      "execution_count": 0,
      "outputs": []
    },
    {
      "cell_type": "code",
      "metadata": {
        "id": "Cx6zyJ-q-ejP",
        "colab_type": "code",
        "outputId": "83f62c22-b3b3-482d-8d3f-afc41a1bdec7",
        "colab": {
          "base_uri": "https://localhost:8080/",
          "height": 34
        }
      },
      "source": [
        "X_centered.mean(0)"
      ],
      "execution_count": 22,
      "outputs": [
        {
          "output_type": "execute_result",
          "data": {
            "text/plain": [
              "array([-5.55111512e-17,  2.22044605e-17, -6.66133815e-17])"
            ]
          },
          "metadata": {
            "tags": []
          },
          "execution_count": 22
        }
      ]
    },
    {
      "cell_type": "markdown",
      "metadata": {
        "id": "fJ-Vdiet-ejW",
        "colab_type": "text"
      },
      "source": [
        "### Graficando una funcion en dos dimensiones"
      ]
    },
    {
      "cell_type": "code",
      "metadata": {
        "id": "F_EI8y8b-ejZ",
        "colab_type": "code",
        "colab": {}
      },
      "source": [
        "# x and y have 50 steps from 0 to 5\n",
        "x = np.linspace(0, 5, 50)\n",
        "y = np.linspace(0, 5, 50)[:, np.newaxis]\n",
        "\n",
        "z = np.sin(x) ** 20 + np.cos(30 + y ** x) * np.cos(x)"
      ],
      "execution_count": 0,
      "outputs": []
    },
    {
      "cell_type": "code",
      "metadata": {
        "id": "63Gz8XyK-eji",
        "colab_type": "code",
        "colab": {}
      },
      "source": [
        "%matplotlib inline\n",
        "import matplotlib.pyplot as plt"
      ],
      "execution_count": 0,
      "outputs": []
    },
    {
      "cell_type": "code",
      "metadata": {
        "id": "afKNmYqF-ejr",
        "colab_type": "code",
        "outputId": "b4b22f3b-92d0-44c7-c7e0-0e2567dc3e5d",
        "colab": {
          "base_uri": "https://localhost:8080/",
          "height": 269
        }
      },
      "source": [
        "\n",
        "plt.imshow(z, origin='lower', extent=[0, 5, 0, 5],\n",
        "           cmap='viridis')\n",
        "plt.colorbar();"
      ],
      "execution_count": 31,
      "outputs": [
        {
          "output_type": "display_data",
          "data": {
            "image/png": "[encoded data removed]",
            "text/plain": [
              "<Figure size 432x288 with 2 Axes>"
            ]
          },
          "metadata": {
            "tags": []
          }
        }
      ]
    },
    {
      "cell_type": "markdown",
      "metadata": {
        "id": "JwxM9CEF-ej2",
        "colab_type": "text"
      },
      "source": [
        "<!--NAVIGATION-->\n",
        "< [Agregaciones: Min, Max, etc.](01.04-Computation-on-arrays-aggregates.ipynb) | [Contenido](Index.ipynb) | [Comparaciones, máscaras y lógica booleana](01.06-Boolean-Arrays-and-Masks.ipynb) >\n",
        "\n"
      ]
    }
  ]
}